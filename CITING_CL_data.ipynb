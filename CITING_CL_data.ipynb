{
 "cells": [
  {
   "cell_type": "code",
   "execution_count": 5,
   "id": "6f4a9829",
   "metadata": {},
   "outputs": [],
   "source": [
    "from datasets import load_dataset\n",
    "import torch\n",
    "from transformers import AutoTokenizer, AutoModelForCausalLM\n",
    "from peft import PeftModel\n",
    "from openai import OpenAI\n",
    "import requests\n",
    "import json\n",
    "from tqdm import tqdm\n",
    "import pickle\n",
    "import numpy as np\n",
    "from sentence_transformers import SentenceTransformer, util\n",
    "\n",
    "device = torch.device(\"cuda\" if torch.cuda.is_available() else \"cpu\")"
   ]
  },
  {
   "cell_type": "code",
   "execution_count": 6,
   "id": "27a9903d",
   "metadata": {},
   "outputs": [
    {
     "data": {
      "text/plain": [
       "Qwen2ForCausalLM(\n",
       "  (model): Qwen2Model(\n",
       "    (embed_tokens): Embedding(151936, 896, padding_idx=151665)\n",
       "    (layers): ModuleList(\n",
       "      (0-23): 24 x Qwen2DecoderLayer(\n",
       "        (self_attn): Qwen2Attention(\n",
       "          (q_proj): Linear(in_features=896, out_features=896, bias=True)\n",
       "          (k_proj): Linear(in_features=896, out_features=128, bias=True)\n",
       "          (v_proj): Linear(in_features=896, out_features=128, bias=True)\n",
       "          (o_proj): Linear(in_features=896, out_features=896, bias=False)\n",
       "        )\n",
       "        (mlp): Qwen2MLP(\n",
       "          (gate_proj): Linear(in_features=896, out_features=4864, bias=False)\n",
       "          (up_proj): Linear(in_features=896, out_features=4864, bias=False)\n",
       "          (down_proj): Linear(in_features=4864, out_features=896, bias=False)\n",
       "          (act_fn): SiLU()\n",
       "        )\n",
       "        (input_layernorm): Qwen2RMSNorm((896,), eps=1e-06)\n",
       "        (post_attention_layernorm): Qwen2RMSNorm((896,), eps=1e-06)\n",
       "      )\n",
       "    )\n",
       "    (norm): Qwen2RMSNorm((896,), eps=1e-06)\n",
       "    (rotary_emb): Qwen2RotaryEmbedding()\n",
       "  )\n",
       "  (lm_head): Linear(in_features=896, out_features=151936, bias=False)\n",
       ")"
      ]
     },
     "execution_count": 6,
     "metadata": {},
     "output_type": "execute_result"
    }
   ],
   "source": [
    "tokenizer = AutoTokenizer.from_pretrained(\"Qwen/Qwen2.5-0.5B\", padding_side = 'left')\n",
    "model = AutoModelForCausalLM.from_pretrained(\"./dpo_model\")\n",
    "\n",
    "# IMPORTANT: SET PAD TOKEN\n",
    "tokenizer.add_special_tokens({'pad_token': '<|pad|>',\n",
    "                              'bos_token': '<|im_start|>',\n",
    "                              'eos_token': '<|im_end|>'})\n",
    "model.config.pad_token_id = tokenizer.pad_token_id\n",
    "model.config.bos_token_id = tokenizer.bos_token_id\n",
    "model.config.eos_token_id = tokenizer.eos_token_id\n",
    "model.eval()"
   ]
  },
  {
   "cell_type": "code",
   "execution_count": null,
   "id": "b466d892",
   "metadata": {},
   "outputs": [],
   "source": [
    "# # Load and shuffle the full test split\n",
    "# train_ultrafeedback = load_dataset(\"HuggingFaceH4/ultrafeedback_binarized\",\n",
    "#                                    revision=\"292c16329d921287c4166934cac1a6ad1e13a6c5\",\n",
    "#                                    split = 'train_prefs')\n",
    "\n",
    "# test_ultrafeedback = load_dataset(\"HuggingFaceH4/ultrafeedback_binarized\", \n",
    "#                         revision=\"292c16329d921287c4166934cac1a6ad1e13a6c5\", \n",
    "#                         split=\"test_prefs\").shuffle(seed=42)\n",
    "# # test_sample = test_ultrafeedback.select(range(100))\n",
    "# # eval_prompts = test_sample['prompt']"
   ]
  },
  {
   "cell_type": "code",
   "execution_count": null,
   "id": "61f6dec7",
   "metadata": {},
   "outputs": [
    {
     "name": "stderr",
     "output_type": "stream",
     "text": [
      "Map: 100%|██████████| 10000/10000 [00:00<00:00, 23007.82 examples/s]\n",
      "Map: 100%|██████████| 500/500 [00:00<00:00, 24105.75 examples/s]\n"
     ]
    }
   ],
   "source": [
    "# train_sample = train_ultrafeedback.shuffle(seed=42).select(range(10000)).select_columns([\"prompt\", \"chosen\"]).map(\n",
    "#     lambda example: {\n",
    "#         \"prompt\": example[\"prompt\"],\n",
    "#         \"chosen\": example[\"chosen\"][1][\"content\"] if len(example[\"chosen\"]) > 1 else None\n",
    "#     })\n",
    "\n",
    "# test_sample = test_ultrafeedback.shuffle(seed=42).select(range(500)).select_columns([\"prompt\", \"chosen\"]).map(\n",
    "#     lambda example: {\n",
    "#         \"prompt\": example[\"prompt\"],\n",
    "#         \"chosen\": example[\"chosen\"][1][\"content\"] if len(example[\"chosen\"]) > 1 else None\n",
    "#     })"
   ]
  },
  {
   "cell_type": "code",
   "execution_count": null,
   "id": "a81e1f8e",
   "metadata": {},
   "outputs": [],
   "source": [
    "# train_lengths = [len(tokenizer(prompt)['input_ids']) for prompt in train_sample['prompt']]\n",
    "\n",
    "# # find 3 points to split for curriculum\n",
    "# sorted_indices = np.argsort(train_lengths)\n",
    "# n = len(sorted_indices)\n",
    "# split1 = n // 3\n",
    "# split2 = 2 * n // 3\n",
    "\n",
    "# # actual indices for each split\n",
    "# indices_split1 = sorted_indices[:split1]\n",
    "# indices_split2 = sorted_indices[split1:split2]\n",
    "# indices_split3 = sorted_indices[split2:]\n",
    "\n",
    "# # Final datasets\n",
    "# train_short_raw = train_sample.select(indices_split1.tolist())\n",
    "# train_med_raw = train_sample.select(indices_split2.tolist())\n",
    "# train_long_raw = train_sample.select(indices_split3.tolist())\n"
   ]
  },
  {
   "cell_type": "code",
   "execution_count": null,
   "id": "795bdbe4",
   "metadata": {},
   "outputs": [
    {
     "name": "stdout",
     "output_type": "stream",
     "text": [
      "15.0\n",
      "74.0\n",
      "272.0\n"
     ]
    }
   ],
   "source": [
    "# print(np.median([len(tokenizer(prompt)['input_ids']) for prompt in train_short_raw['prompt']]))\n",
    "# print(np.median([len(tokenizer(prompt)['input_ids']) for prompt in train_med_raw['prompt']]))\n",
    "# print(np.median([len(tokenizer(prompt)['input_ids']) for prompt in train_long_raw['prompt']]))"
   ]
  },
  {
   "cell_type": "code",
   "execution_count": 7,
   "id": "9330b767",
   "metadata": {},
   "outputs": [],
   "source": [
    "# qwen_input_prompt = (\n",
    "#     \"Please categorize the following instructions into a few types, and for each type, \"\n",
    "#     \"provide a short criteria describing what makes a good response.\\n\\n\"\n",
    "#     \"Instructions:\\n\")\n",
    "    \n",
    "# train_sample_100 = train_sample.shuffle(seed=42).select(range(400))\n",
    "\n",
    "# for i, prompt in enumerate(train_sample_100, 1):\n",
    "#     qwen_input_prompt += f\"{i}. {prompt['prompt']}\\n\"\n",
    "\n",
    "# qwen_input_prompt += \"\\nFor each category, please write:\\n\" \\\n",
    "#                       \"- Category name\\n\" \\\n",
    "#                       \"- Short criteria (1-3 sentences) describing what makes a good response.\"\n",
    "\n",
    "# print(qwen_input_prompt)"
   ]
  },
  {
   "cell_type": "code",
   "execution_count": 8,
   "id": "0e076530",
   "metadata": {},
   "outputs": [],
   "source": [
    "critera_dict = {\n",
    "    \"Content Creation & Writing\" : \n",
    "        \"A good response is clear, coherent, and well-structured, addressing the key points outlined in the prompt. It should maintain the requested style (e.g., journalistic, instructional, engaging), meet length and formatting expectations, and ensure accurate, relevant content.\",\n",
    "         \n",
    "    \"Code & Technical Implementation\" : \n",
    "        \"The response should provide clean, executable code that directly addresses the task, with clear comments explaining each step. It should handle any specified edge cases and, where relevant, demonstrate understanding of underlying concepts.\",\n",
    "   \n",
    "    \"Translation & Language Conversion\" : \n",
    "        \"The response should accurately and succinctly label or classify the input based on context and examples provided, using the correct label or answer format requested.\",\n",
    "\n",
    "    \"Sentiment & Classification Tasks\" :\n",
    "        \"The response should accurately and succinctly label or classify the input based on context and examples provided, using the correct label or answer format requested.\",\n",
    "        \n",
    "    \"Summarization & Paraphrasing\" : \n",
    "        \"Responses should condense the input into concise, coherent text that captures the main ideas while preserving essential details and ensuring logical flow.\",  \n",
    "    \n",
    "    \"Inference & Reasoning\" : \n",
    "        \"Good responses use logical reasoning to justify conclusions, clearly showing how the inference aligns with the provided premise or context.\", \n",
    "    \n",
    "    \"Short-Form & Factual Q&A\" : \n",
    "        \"The answer should be short, direct, and factual, addressing the core of the question and providing useful, precise information.\", \n",
    "    \n",
    "    \"Creative Ideation & Strategy\" : \n",
    "        \"Good responses are original, creative, and relevant to the context. They should align with the goals (e.g., improving engagement, enhancing accessibility) and include actionable, well-reasoned ideas.\"\n",
    "}"
   ]
  },
  {
   "cell_type": "code",
   "execution_count": 9,
   "id": "cacf9adb",
   "metadata": {},
   "outputs": [],
   "source": [
    "categories_dict = {\n",
    "    'Content Creation & Writing' : \n",
    "        ['Write a 500-word news article with a journalistic style and tone exploring the potential benefits and challenges of using rooftops for solar energy production, including interviews with experts in the field and examples of successful rooftop solar projects. The article should also touch on the implications of this technology for energy independence, greenhouse gas emissions reduction, and cost savings for consumers and businesses. Please ensure that all sources are properly cited and the article is free of bias.',\n",
    "        'Write an informative essay about the effects of climate change on the planet.',\n",
    "        'Using a combination of written text and tables, provide a detailed analysis of the major differences between inherited traits and learned behaviors. In your analysis, include specific examples of each and describe how they impact individual development and evolution. Additionally, discuss the role of epigenetics in shaping inherited traits and the impact of cultural transmission on learned behaviors. Finally, compare and contrast the mechanisms by which these two types of characteristics are passed down through generations and discuss the implications for future research in the fields of genetics and behavioral science.',\n",
    "        \"Rewrite the expression to specify the geographical location with a clear meaning. \\n Distinct from regions outside of the North American continent.\"],\n",
    "        \n",
    "    'Code & Technical Implementation' :\n",
    "        [\"Please write a [Python code] that implements a basic generative adversarial network (GAN). In your code, please define the generator and discriminator models as [TensorFlow] functions. Then, use these functions to train the GAN on a dataset of your choice. Finally, generate some sample images using the trained model and save them as [JPEG] files. Can you explain how the GAN works and how the training process improves the generator's ability to create realistic images?\",\n",
    "        'I have the following script:\\n\\n#Check if the specific text exists in the file\\nif grep -q \"z-10 fixed bottom-5 inset-x-0 mx-auto max-w-fit rounded-lg px-3 py-2 bg-white border border-gray-100 shadow-md flex justify-between space-x-2 items-center\" /var/www/$filename.html; then\\n\\n#Remove the line with the specific text if it exists\\nsudo sed -i \\'/z-10 fixed bottom-5 inset-x-0 mx-auto max-w-fit rounded-lg px-3 py-2 bg-white border border-gray-100 shadow-md flex justify-between space-x-2 items-center/d\\' /var/www/$filename.html\\nfi\\n\\n--I want to execute this on every file inside /var/www on CentOS, how do I do that?',\n",
    "        'How can I modify the given C# code to create a chatbot that integrates with external APIs and has more dialog options? For example, can I use Latex to create a more complex chatbot that responds to user input with mathematical equations or graphs? Can you provide a code snippet for how to integrate the chatbot with an external API, such as a weather service or news feed?',\n",
    "        'how do you add a dynamic number of display elements in pysimplegui depending on the number of items in a list?\\nfor example:\\n\\nfitness\\\\_classes[(cardio, 3pm, 5pm),(spin. 9am, 11am)]\\n\\nsg.Text(Cardio)\\nsg.Text(Spin)\\n\\nand if there are 3 tuples in the fitness\\\\_classes list:\\n\\nfitness\\\\_classes[(cardio, 3pm, 5pm),(spin. 9am, 11am),(pilates,4pm,6pm)]\\n\\nsg.Text(Cardio)\\nsg.Text(Spin)\\nsg.Text(Pilates)'],\n",
    "    \n",
    "    'Translation & Language Conversion' : \n",
    "        [\"TASK DEFINITION: This task is about translating a given English language sentence to French.\\nPROBLEM: And you see that over here.\\n\\nSOLUTION: Et on voit ça ici.\\n\\nPROBLEM: If you figure out what up and down really are, it's a complex physical set of skills to be able to throw a ball down and up and everything, but then you add in sideways.\\n\\nSOLUTION: Si vous comprenez ce que sont vraiment le haut et le bas, il faut un ensemble complexe de compétences physiques pour pouvoir lancer une balle vers le bas ou le haut, mais ensuite vous ajoutez le déplacement latéral.\\n\\nPROBLEM: So that might well chime with your view that America is a sort of warmongering military machine, out to overpower the world with its huge industrial-military complex.\\n\\nSOLUTION:\",   \n",
    "        'Definition: You are given a sentence in Italian. Your job is to translate the Italian sentence into English.\\nInput: Ma avevo saputo di un membro del Congresso che aveva un punto di vista decisamente diverso.\\nOutput:',\n",
    "        \"Definition: Given a sentence in French, provide an equivalent paraphrased version from the original that retains the same meaning.\\nInput: La recherche d'une clé binaire dans un arbre de recherche spécifique peut être programmée de manière récursive ou itérative.\\nOutput:\",\n",
    "        'Teacher: You are given a sentence in Hebrew. Your job is to translate the Hebrew sentence into Japanese.\\nTeacher: Now, understand the problem? If you are still confused, see the following example:\\nמה מייחד את המוח האנושי?\\nSolution: 人の脳の何がそんなに特別なのでしょうか ？\\nReason: The Hebrew sentence is correctly translated into Japanese. They both refer to the human brain.\\n\\nNow, solve this instance: כאשר נתקלים בעיכובים או סיבוכים קשים במיוחד, מתגלה התנהגות מעניינת במיוחד: קישוט.\\nStudent:'],\n",
    "        \n",
    "    \"Sentiment & Classification Tasks\" :\n",
    "        ['Classify the emotion conveyed in the following sentence as happy, sad, or neutral.\\nI had a lovely day.',\n",
    "        '\"mention mysterious , sensual , emotionally intense , and replete \"\\nHow would the sentiment of this sentence be perceived --\\n\\nPossible answers: (i) negative; (ii) positive;\\nAnswer:',\n",
    "        \"Teacher: In this task, you will be given a sentence about a person. You should determine how the sentence affects how the person is perceived by most people in society. Your choices are: \\nPositive: The social perception of [PERSON] in the sentence is considered predominantly positive.\\nNegative: The social perception of [PERSON] in the sentence is considered predominantly negative.\\nNo impact: There is no clear impact of social perception of [PERSON] associated with the sentence.\\nTeacher: Now, understand the problem? If you are still confused, see the following example:\\n[PERSON] behaved like a professional in the job interview.\\nSolution: Positive\\nReason: Behaving professionaly in a job interview has a positive impact on people's perception of a person.\\n\\nNow, solve this instance: [PERSON] started working as a waitress at a restaurant, so she didn't have an excuse to dress for a job interview.\\nStudent:\",\n",
    "        'Detailed Instructions: In this task, you must classify if a given review is positive/negative, indicating your answer as P or N.\\nProblem:synopsis : a small town thug convinces a dimwitted high - school student to spy on his girlfriend , who is babysitting three unruly kids for their alcoholic parents on a friday night .\\nwhile this is going on , the thug , the father , the boyfriend , and a kid reaching the onset of puberty all have fantasies about the babysitter .\\ncomments : to say this movie is bad would be quite an understatement .\\ni \\'m not sure what writer and director ferland was hoping to accomplish with the babysitter .\\nsuspense ?\\nfamily drama ?\\nhumor ?\\nerotica ?\\nelements of each of these genres exist in the film , yet\\nit fails to successfully achieve any of them .\\ninstead , the babysitter is a dull , lifeless movie which manages to bore and ultimately irritate its viewers .\\ni suppose this film could have been watchable if it were n\\'t for the fact that the characters are universally unappealing\\n.\\nalicia silverstone is completely wasted playing jennifer , the babysitter .\\nher character has absolutely no depth at all , and her sole purpose in the movie is to be the object of the other characters \\' fantasies .\\neveryone else in the film seems to be in a competition to see who can stoop to the lowest level by the time the film ends .\\nthe parents are alcoholics who become increasingly obnoxious as the movie proceeds .\\nthe father ( played by j .\\nt .\\nwalsh ) fantasizes about the babysitter ; the mother fantasizes about her husband \\'s best friend .\\nnone of these fantasy sequences , trust me , are things that need to be seen , but we see them anyway , complete with cheesy , make - out saxophone music .\\nthe thug , in the meantime , proves that he \\'s evil through his annoying habit of smashing half - empty beer bottles all of a sudden and for no apparent reason .\\nthe most absurd character , however , is the babysitter \\'s boyfriend who seems catatonically brain - dead .\\nthe thug , in a manipulative , iago - like manner ( though he does n\\'t really need to try hard ) , manages to talk the boyfriend into binge - drinking , smoking grass , running away from cops , and playing peeping tom on his own girlfriend in a matter of minutes .\\nincredible !\\n( of course , the boyfriend \\'s original plan for the evening was , try not to laugh , to sit in an empty diner and read catcher in the rye by j . d . salinger . ) if the goal of the babysitter was to be suspenseful , then it fails .\\nthere are surprisingly few tense moments in this film , and nearly all of them come at the final minute .\\nby that time , however , the audience is so tired of the inane characters that no one truthfully cares what happens to any of them .\\nno suspense occurs in the dream sequences either because every single one of them is obviously a dream sequence from its inception .\\nif the goal of the babysitter was to be humorous , then it also fails .\\ni found nothing even remotely funny about the boozing parents who seemed , at times , to be played for laughs .\\nif the goal of the babysitter was to be dramatic , then , once again , it fails .\\nthe characters are one - dimensional and uninteresting .\\nfinally , if the goal of the babysitter was to be titillating ( the type of film destined to be played ad infinitum on hbo at 2 in the morning ) , then\\nit fails as well .\\nthe dream sequences are n\\'t erotic ; they are too brief and , outside of one very short scene , contain no nudity .\\ni ca n\\'t completely trash this movie .\\nthe first 10 minutes or so vaguely resemble an interesting film , and the conclusion sports a halfway decent fistfight .\\nthe other 79 minutes , though , are a drag .\\nsilverstone \\'s character , at the end of the movie , turns to her boyfriend and asks \" what were you thinking ?\\n\"\\ni asked myself the same question , having spent 99 cents renting this turkey .\\nSolution:'],\n",
    "        \n",
    "    \"Summarization & Paraphrasing\" :\n",
    "        ['A.\\tTo provide medical and educational aid to the poor people, especially women, children and aged. B.\\tTo universalize literacy through formal and informal education. C.\\tTo promote employment and income generation activates by the different means of small scale industries handloom, handicrafts and petty trading D. To create awareness among the people on organizational development on legal issues by promoting grass root level based groups of people in the operational area. E.\\tTo ensure development of infrastructure such as road, electricity, water, communication etc. within the operational area. F.\\tTo encourage the youth to handle with the changing norms and values of society and to cope with these changes and there by create a nation of healthy youth in all means. Can you summarize the goals of the organization described in the text material?' ,\n",
    "        '1. Specimens may be borrowed from the Milwaukee Public Museum Geology Collections for purposes of research. All loans must be authorized and documented by a formal loan agreement or contract.\\n2. Requests for loans must be made in writing to the Geology Collections Manager by a qualified staff member of a recognized educational facility. Loans are not issued to students but may be assigned to their major professor if that person can vouch for the professionalism of the student and ensure compliance with the loan agreement. Loan requests should describe the nature and scope of work contemplated, the worker’s name, and all pertinent information on requested specimens. Loans are made to institutions and not to individuals. The borrowing facility assumes responsibility for the safekeeping and return of the borrowed materials.\\n4. Specimens on loan should be kept under conditions and handled carefully to avoid damage.\\n5. Each specimen should be annotated or affirmed using annotation slips and permanent ink or type and included with specimen. Annotations should not be made on original labels and should include date and name of recorder.\\n6. Unless otherwise arranged, all specimens in one loan must be returned together carefully packaged to avoid damage in transit. The borrower is expected to pay return shipping costs, to adequately insure the material, and to attach all necessary travel certificates, documents, or permits.\\n7. Loans from the Milwaukee Public Museum Geology Collections should be acknowledged in published works. The Geology Collections Manager should receive a reprint of each publication and digital copies of any photography of loan material.\\nCan you summarize the requirements for borrowing specimens from the Milwaukee Public Museum Geology Collections?',\n",
    "        'Summarize the text input in two sentences to the best of your ability\\nJohn had been looking for a job for a few months now. He had applied to a few places but none of them seemed to be suitable for him. He had a few interviews but was turned down for each of them.',\n",
    "        \"We have everything! National cuisines from all over the world, as well as unique combinations of different cuisines. You will be able to enjoy the best Persian delicacies alongside supreme Russian food, juicy Balkan treats and the best dishes of African cuisine. This rich, authentic tapestry of tastes that cannot be found anywhere else in the world makes Israel the perfect location for the perfect cooking vacation.\\nIsrael is indeed a small country. You can cross it in one week of easy traveling, have a taste of the delicious boutique wines of the north and breathe the fresh mountain air of Jerusalem on the same day. Instead of spending the whole week in one location you will be able to travel through many magical places while enjoying the amazing variety of exotic cuisines the land of Israel has to offer.\\nThe weather in Israel is lovely most of the year. When most of Europe and the US are snowed in, Israel is warm and sunny. This is why Israel is a preferred tourist destination year-round and even more so for Cooking Vacations.\\nAs is well known, Israel is one of the leading agricultural powers in the world. This is also manifested in the amazing variety of fresh fruits and vegetables for the reasonable prices of agricultural produce. Local restaurants offer a wonderful selection of vegetable dishes, salads and casseroles that you have probably never tasted before.\\nFor those of you who are partial for Kosher food, you'll be happy to find dozens of excellent quality Kosher restaurants, offering the best Kosher cuisine that will allow you to enjoy the Cooking Vacations to their fullest.\\nFor such a small country, Israel has an astoundingly varied topography. The sea brings in through the ports a selection of fresh fish and seafood and the mountains and meadows are great for raising goats and lambs to produce the wonderful selection of local cheeses, as well as vineyards for producing the excellent local wine.\\nBut perhaps the best reason for Cooking Vacations in Israel is the people. Israelis take great pride in their food and are very enthusiastic to share the secrets of their cuisine. Israeli people love to tell stories about their family recipes and special family delicacies. They are an easy-going, informal, hospitable people and their warm and open attitude towards gourmet food lovers makes Israel a real paradise for culinary travelers. This is the place to ask, to learn, to experiment, to snoop around, to stick your fingers in the pot and to have a taste of one of the most fascinating cuisines in the world.\\nAll in all, cooking vacations in Israel present a unique and wonderful combination of authentic local foods, boutique wines, exotic landscape, wonderful weather and the most warm and easy going people who would be happy to extend their hospitality and to teach you the secrets of the local cuisine. What else do you need for perfect Cooking Vacations?\\nCan you summarize the main reasons why Israel is a great location for cooking vacations?\"],\n",
    "    \n",
    "    \"Inference & Reasoning\" : \n",
    "        ['Q: Premise: \"Two military workers help to clean up rubble.\"\\nBased on this premise, can we conclude that the hypothesis \"The army privates are particpating in base clean-up day.\" is true?\\nOptions:\\n- yes\\n- it is not possible to tell\\n- no\\nA: Military workers helping to clean up rubble are not necessarily particpating in base clean-up day and are not necessarily army privates.\\nThe answer is it is not possible to tell.\\n\\nQUESTION: Given the sentence \"People in the military are outside at night.\" is it true that \"Some military personnel are smoking outside at night.\"?\\n\\nLet\\'s solve it slowly: Just because personnel are outside does not mean that they are smoking.\\nThe answer is it is not possible to tell.\\n\\n[QUESTION] If \"A child in a striped dress and a woman in a black dress.\" does that mean that \"A mother and child model dresses.\"?\\nOptions:\\n- yes\\n- it is not possible to tell\\n- no\\nA mother and child wear dresses for reasons other than to model them.\\nThe answer is it is not possible to tell.\\n\\nQ: Premise: \"An older man in a white short-sleeve shirt admiring a bush.\"\\nHypothesis: \"A man admires a bush.\"\\nDo we know that the hypothesis entailed by the premise?\\nA: If the man is admiring a bush then he admire the bush.\\nThe answer is yes.\\n\\nQUESTION: Can we conclude from \"A man sits on a sidewalk while leaning up against a building.\" that \"The man is eating a sandwich while sitting on the sidewalk.\"?\\nOptions:\\n- yes\\n- no\\n- it is not possible to tell\\n\\nLet\\'s solve it slowly: A man sitting on a sidewalk while leaning up against a building doesn\\'t indicate he is eating a sandwich.\\nThe answer is it is not possible to tell.\\n\\nQUESTION: Premise: \"Three new york jets quarterbacks are practicing dropping back for a pass.\"\\nHypothesis: \"Three soccer players run sprints down the field.\"\\nDo we know that the hypothesis entailed by the premise?\\n\\nLet\\'s solve it slowly:',\n",
    "        'In this task, you will be presented with a premise and a hypothesis sentence. Determine whether the hypothesis sentence entails (implies), contradicts (opposes), or is neutral with respect to the given premise sentence. Please answer with \"Contradiction\", \"Neutral\", or \"Entailment\".\\n\\n[EX Q]: Premise: Davenport missed Wednesday\\'s practice due to an undisclosed injury but was seen working on the sidelines Thursday, Josh Katzenstein of The New Orleans Times-Picayune reports. It\\'s unclear exactly what is bothering Davenport, but he was at least able to do some individual work on the side Thursday. The rookie defensive end has reportedly been going through some growing pains in his first training camp, and Davenport will need to get healthy and back on the field as soon as possible in order to prove his worth as the 14th overall pick. <sep> Hypothesis: Josh Katzenstein is a reporter\\n[EX A]: Entailment\\n\\n[EX Q]: Premise: What is certain, however, is that around 120,000 years ago, at least, the modern Homo sapiens first appeared and lived contemporaneously with the Neanderthal for at least 90,000 years, until the Neanderthal disappeared 30,000 years ago. <sep> Hypothesis: Homo sapiens lived at the same time as neanderthals for more than 30,000 years \\n[EX A]: Entailment\\n\\n[EX Q]: Premise: \"Child labor\" is, generally speaking, work for children that harms them or exploits them in some way (physically, mentally, morally, or by blocking access to education). <sep> Hypothesis: Child labor is preferable to going to school\\n[EX A]:',    \n",
    "        \"Let's play a game. You are Gary Vaynerchuk and you are working on an extremely important new social media account. You are explaining to me, your social media manager assigned to this account, how you want me to set up the social media monthly report document. Please tell me what you want to see in the report, and how I should format it. The focus for the account is rapid growth on Instagram and TikTok so focus on the metrics that will best show ROI with those goals in mind.\",\n",
    "        \"Keri has 7 books that she plans on printing in her new library. 3 of her books are fiction, and the other 4 are nonfiction. In her library, the fiction books take up 25% of the shelf space, and the nonfiction books take up 80% of the shelf space. How much shelf space will she have for the fiction books?\"],\n",
    "    \n",
    "    \"Short-Form & Factual Q&A\" : \n",
    "        ['why do texans say \"remember the alamo\"',\n",
    "        \"what do you know about high-end and luxury industries management ?\",\n",
    "        \"Why is Mars a tourism country?\",\n",
    "        \"How many aliens are there on the earth?\"],\n",
    "          \n",
    "    \"Creative Ideation & Strategy\" : \n",
    "        ['What innovative ideas can you come up with to enhance the digital menu experience for a vegan sushi restaurant that combines molecular gastronomy with traditional Japanese cuisine? Please include a new constraint that ensures the menu is also accessible to visually-impaired users. Describe the interface and user interactions, and detail how you would use animation and interactive elements to highlight the fusion of flavors and techniques.',\n",
    "        'What strategies and techniques should be employed to effectively create, implement and manage successful Bing advertising campaigns? What are the best practices and pitfalls to avoid? How can one optimize and track the performance of their Bing campaigns? What tools and resources are available for enhancing the visibility, targeting and conversion rates of Bing ads?',\n",
    "        'What would you say to motivate a friend who is about to face a difficult challenge?',\n",
    "        'I own a creative studio and I would like to hire a full-time developer to work on projects to improve our pipeline. What are some effective ways to find someone great?'],\n",
    "}"
   ]
  },
  {
   "cell_type": "code",
   "execution_count": 10,
   "id": "3f4fcba7",
   "metadata": {},
   "outputs": [],
   "source": [
    "sentence_bert = SentenceTransformer('sentence-transformers/all-MiniLM-L6-v2')  # you can choose another SBERT model\n",
    "\n",
    "def assign_category(prompt, sentence_bert=sentence_bert, categories_dict=categories_dict):\n",
    "\n",
    "    # compute mean-pooled embeddings for each category\n",
    "    category_mean_embeds = {}\n",
    "\n",
    "    for category, examples in categories_dict.items():\n",
    "        example_embeds = sentence_bert.encode(examples, convert_to_tensor=True)\n",
    "        mean_embeds = torch.mean(example_embeds, dim=0)\n",
    "        category_mean_embeds[category] = mean_embeds\n",
    "\n",
    "    prompt_embed = sentence_bert.encode(prompt, convert_to_tensor=True)\n",
    "\n",
    "    # compute cosine similarity between curr prompt and each category's mean embedding to pick best match category\n",
    "    similarities = {}\n",
    "    for category, mean_embedding in category_mean_embeds.items():\n",
    "        cosine_sim = util.cos_sim(prompt_embed, mean_embedding).item()\n",
    "        similarities[category] = cosine_sim\n",
    "    most_similar_category = max(similarities, key=similarities.get)\n",
    "\n",
    "    # print(most_similar_category)\n",
    "    return most_similar_category\n"
   ]
  },
  {
   "cell_type": "code",
   "execution_count": 16,
   "id": "a953a9f8",
   "metadata": {},
   "outputs": [],
   "source": [
    "def create_citing_dataset(training_set_raw):\n",
    "    training_set = []\n",
    "    for instruction in training_set_raw:\n",
    "        x = instruction # [\"prompt\"]\n",
    "        # y = instruction[\"chosen\"]\n",
    "        category = assign_category(x)\n",
    "        c = critera_dict[category]\n",
    "        \n",
    "        training_set.append({\"x\" : x, \"y\" : \"\", \"c\" : c})\n",
    "    \n",
    "    return training_set"
   ]
  },
  {
   "cell_type": "code",
   "execution_count": 15,
   "id": "3bf6cc13",
   "metadata": {},
   "outputs": [],
   "source": [
    "import pandas as pd\n",
    "df = pd.read_json('leaderboard_subs.jsonl', lines=True)\n",
    "leaderboard_prompts = df[\"prompt\"].tolist()"
   ]
  },
  {
   "cell_type": "code",
   "execution_count": 18,
   "id": "5e3a8ee6",
   "metadata": {},
   "outputs": [],
   "source": [
    "train_short = create_citing_dataset(leaderboard_prompts)"
   ]
  },
  {
   "cell_type": "code",
   "execution_count": 25,
   "id": "09c83d84",
   "metadata": {},
   "outputs": [],
   "source": [
    "with open(\"leaderboard_raw.json\", \"w\") as f:\n",
    "    json.dump(train_short, f, indent=4)"
   ]
  },
  {
   "cell_type": "code",
   "execution_count": 12,
   "id": "c7c60dde",
   "metadata": {},
   "outputs": [],
   "source": [
    "# train_short = create_citing_dataset(train_short_raw)\n",
    "# with open(\"train_short.json\", \"w\") as f:\n",
    "#     json.dump(train_short, f, indent=4)\n",
    "\n",
    "# train_med = create_citing_dataset(train_med_raw)\n",
    "# with open(\"train_med.json\", \"w\") as f:\n",
    "#     json.dump(train_med, f, indent=4)\n",
    "\n",
    "# train_long = create_citing_dataset(train_long_raw)\n",
    "# with open(\"train_long.json\", \"w\") as f:\n",
    "#     json.dump(train_long, f, indent=4)\n",
    "\n",
    "# test = create_citing_dataset(test_sample)\n",
    "# with open(\"test.json\", \"w\") as f:\n",
    "#     json.dump(test, f, indent=4)"
   ]
  },
  {
   "cell_type": "code",
   "execution_count": 13,
   "id": "39f89671",
   "metadata": {},
   "outputs": [],
   "source": [
    "# # train_med[332]['x']\n",
    "# print(np.median([len(tokenizer(prompt['x'])['input_ids']) for prompt in train_short]))"
   ]
  }
 ],
 "metadata": {
  "kernelspec": {
   "display_name": "Python 3",
   "language": "python",
   "name": "python3"
  },
  "language_info": {
   "codemirror_mode": {
    "name": "ipython",
    "version": 3
   },
   "file_extension": ".py",
   "mimetype": "text/x-python",
   "name": "python",
   "nbconvert_exporter": "python",
   "pygments_lexer": "ipython3",
   "version": "3.10.12"
  }
 },
 "nbformat": 4,
 "nbformat_minor": 5
}
